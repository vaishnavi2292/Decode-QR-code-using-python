{
 "cells": [
  {
   "cell_type": "code",
   "execution_count": 2,
   "id": "f2ca5ac9",
   "metadata": {},
   "outputs": [
    {
     "name": "stdout",
     "output_type": "stream",
     "text": [
      "QR code not detected\n"
     ]
    }
   ],
   "source": [
    "import cv2\n",
    " \n",
    "image = cv2.imread('Untitled.png')\n",
    " \n",
    "qrCodeDetector = cv2.QRCodeDetector()\n",
    " \n",
    "decodedText, points, _ = qrCodeDetector.detectAndDecode(image)\n",
    " \n",
    "if points is not None:\n",
    " \n",
    "    nrOfPoints = len(points)\n",
    " \n",
    "    print(decodedText)    \n",
    " \n",
    "    cv2.imshow(\"Image\", image)\n",
    "    cv2.waitKey(0)\n",
    "    cv2.destroyAllWindows()\n",
    "     \n",
    " \n",
    "else:\n",
    "    print(\"QR code not detected\")"
   ]
  },
  {
   "cell_type": "code",
   "execution_count": null,
   "id": "4fbeacec",
   "metadata": {},
   "outputs": [],
   "source": []
  }
 ],
 "metadata": {
  "kernelspec": {
   "display_name": "Python 3 (ipykernel)",
   "language": "python",
   "name": "python3"
  },
  "language_info": {
   "codemirror_mode": {
    "name": "ipython",
    "version": 3
   },
   "file_extension": ".py",
   "mimetype": "text/x-python",
   "name": "python",
   "nbconvert_exporter": "python",
   "pygments_lexer": "ipython3",
   "version": "3.10.9"
  }
 },
 "nbformat": 4,
 "nbformat_minor": 5
}
